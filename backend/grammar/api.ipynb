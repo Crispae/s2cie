{
 "cells": [
  {
   "cell_type": "code",
   "execution_count": 1,
   "metadata": {},
   "outputs": [],
   "source": [
    "import sys\n",
    "sys.path.append(\"..\")"
   ]
  },
  {
   "cell_type": "code",
   "execution_count": 2,
   "metadata": {},
   "outputs": [
    {
     "name": "stderr",
     "output_type": "stream",
     "text": [
      "c:\\Users\\saurav\\anaconda3\\envs\\context\\lib\\site-packages\\requests\\__init__.py:109: RequestsDependencyWarning: urllib3 (1.26.13) or chardet (None)/charset_normalizer (3.1.0) doesn't match a supported version!\n",
      "  warnings.warn(\n"
     ]
    }
   ],
   "source": [
    "from searchBackend.parallelGrammar import DistributedGrammar"
   ]
  },
  {
   "cell_type": "code",
   "execution_count": 3,
   "metadata": {},
   "outputs": [],
   "source": [
    "QUERY= \"\"\"\n",
    "rules:\n",
    "  - name: \"rule2\"\n",
    "    label: Phosphorylation\n",
    "    type:  event\n",
    "    priority: 1\n",
    "    pattern: |\n",
    "      trigger = [lemma=/phosph.*/ & tag=/N.*/]\n",
    "      subject = >nsubj []\n",
    "\"\"\"\n",
    "\n",
    "   "
   ]
  },
  {
   "cell_type": "code",
   "execution_count": 4,
   "metadata": {},
   "outputs": [],
   "source": [
    "import json\n",
    "with open(\"../config.json\", \"r\") as f:\n",
    "    config = json.load(f)"
   ]
  },
  {
   "cell_type": "code",
   "execution_count": 5,
   "metadata": {},
   "outputs": [],
   "source": [
    "grammar = DistributedGrammar(config=config.get(\"distributed_custom_search\"))"
   ]
  },
  {
   "cell_type": "code",
   "execution_count": 6,
   "metadata": {},
   "outputs": [
    {
     "name": "stdout",
     "output_type": "stream",
     "text": [
      "\n",
      "rules:\n",
      "  - name: \"rule2\"\n",
      "    label: Phosphorylation\n",
      "    type:  event\n",
      "    priority: 1\n",
      "    pattern: |\n",
      "      trigger = [lemma=/phosph.*/ & tag=/N.*/]\n",
      "      subject = >nsubj []\n",
      "\n",
      "Search on endpoint http://217.76.55.207:8000/ completed. Hits: 20, Duration: 0.11599999666213989\n",
      "Search on endpoint http://217.76.62.73:9000/ completed. Hits: 20, Duration: 0.16899999976158142\n",
      "Search on endpoint http://217.76.55.207:9000/ completed. Hits: 20, Duration: 0.14300000667572021\n",
      "Search on endpoint http://217.76.62.78:9000/ completed. Hits: 20, Duration: 0.21799999475479126\n",
      "Search on endpoint http://217.76.62.78:8000/ completed. Hits: 20, Duration: 0.24199999868869781\n",
      "Search on endpoint http://184.174.36.238:9000/ completed. Hits: 20, Duration: 0.1550000011920929\n",
      "Search on endpoint http://184.174.36.238:8000/ completed. Hits: 20, Duration: 0.17800000309944153\n",
      "Search on endpoint http://217.76.56.90:8000/ completed. Hits: 20, Duration: 1.2610000371932983\n",
      "Search on endpoint http://217.76.56.90:9000/ completed. Hits: 20, Duration: 1.2289999723434448\n"
     ]
    }
   ],
   "source": [
    "print(QUERY)\n",
    "    ## pass previous docs in search query\n",
    "response = grammar.search(query_string=QUERY,maxDocs=10,triggerOverlap=True)  "
   ]
  },
  {
   "cell_type": "code",
   "execution_count": null,
   "metadata": {},
   "outputs": [],
   "source": []
  }
 ],
 "metadata": {
  "kernelspec": {
   "display_name": "context",
   "language": "python",
   "name": "python3"
  },
  "language_info": {
   "codemirror_mode": {
    "name": "ipython",
    "version": 3
   },
   "file_extension": ".py",
   "mimetype": "text/x-python",
   "name": "python",
   "nbconvert_exporter": "python",
   "pygments_lexer": "ipython3",
   "version": "3.9.18"
  }
 },
 "nbformat": 4,
 "nbformat_minor": 2
}
